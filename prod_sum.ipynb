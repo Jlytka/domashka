{
 "cells": [
  {
   "cell_type": "code",
   "execution_count": null,
   "metadata": {},
   "outputs": [
    {
     "name": "stdout",
     "output_type": "stream",
     "text": [
      "17 52\n"
     ]
    },
    {
     "data": {
      "text/plain": [
       "(13, 4)"
      ]
     },
     "execution_count": 1,
     "metadata": {},
     "output_type": "execute_result"
    }
   ],
   "source": [
    "sums = {}\n",
    "def mnozhnyky(element):\n",
    "    dobutky = []\n",
    "    counter = 2 \n",
    "    while(element-counter >= int(element/2+1)):\n",
    "        dobutky.append((element-counter) * counter)\n",
    "        counter+=1\n",
    "    return dobutky\n",
    "\n",
    "\n",
    "for i in range(5, 99):  \n",
    "    sums[i] = mnozhnyky(i)\n",
    "\n",
    "\n",
    "all_products = [num for values in sums.values() for num in values]\n",
    "product_counters = {}\n",
    "for i in range(len(all_products)):\n",
    "    counter = 0\n",
    "    check = all_products[i]\n",
    "    for j in range(len(all_products)):\n",
    "        if(all_products[j] == check):\n",
    "            counter+=1\n",
    "    product_counters[check] = counter\n",
    "\n",
    "\n",
    "\n",
    "non_dublicates = set()\n",
    "unique_sums = {}\n",
    "\n",
    "for key,value in product_counters.items():\n",
    "    if key not in non_dublicates:\n",
    "        unique_sums[key] = value\n",
    "        non_dublicates.add(key)\n",
    "    else:\n",
    "        continue\n",
    "umova_2 = {}\n",
    "\n",
    "\n",
    "for key,value in sums.items():\n",
    "    check = True\n",
    "    for i in value:\n",
    "        if(unique_sums[i] == 1):\n",
    "            check = False\n",
    "            break\n",
    "        else:\n",
    "            continue\n",
    "\n",
    "    if(check == True):\n",
    "        umova_2[key] = sums[key]\n",
    "\n",
    "all_products = [num for values in umova_2.values() for num in values]\n",
    "product_counters = {}\n",
    "for i in range(len(all_products)):\n",
    "    counter = 0\n",
    "    check = all_products[i]\n",
    "    for j in range(len(all_products)):\n",
    "        if(all_products[j] == check):\n",
    "            counter+=1\n",
    "    product_counters[check] = counter\n",
    "\n",
    "unique_sums = {}\n",
    "non_dublicates.clear()\n",
    "\n",
    "for key,value in product_counters.items():\n",
    "    if key not in non_dublicates:\n",
    "        unique_sums[key] = value\n",
    "        non_dublicates.add(key)\n",
    "    else:\n",
    "        continue\n",
    "\n",
    "\n",
    "\n",
    "last_umova = {}\n",
    "\n",
    "for key,value in umova_2.items():\n",
    "    counter = 0\n",
    "    for i in value:\n",
    "        \n",
    "        if(unique_sums[i] == 1):\n",
    "            counter+=1\n",
    "    if(counter == 1):\n",
    "        last_umova[key] = umova_2[key]\n",
    "\n",
    "suma = list(last_umova.keys())[0]\n",
    "for value in last_umova.values():\n",
    "    for i in value:\n",
    "        if(unique_sums[i]==1):\n",
    "            dobutok = i\n",
    "\n",
    "counter = 2\n",
    "while((suma-counter) * counter !=dobutok):\n",
    "    counter+=1\n",
    "numbers  = (suma-counter, counter)\n",
    "numbers\n",
    "\n",
    "\n"
   ]
  }
 ],
 "metadata": {
  "kernelspec": {
   "display_name": "Python 3",
   "language": "python",
   "name": "python3"
  },
  "language_info": {
   "codemirror_mode": {
    "name": "ipython",
    "version": 3
   },
   "file_extension": ".py",
   "mimetype": "text/x-python",
   "name": "python",
   "nbconvert_exporter": "python",
   "pygments_lexer": "ipython3",
   "version": "3.13.2"
  }
 },
 "nbformat": 4,
 "nbformat_minor": 2
}
